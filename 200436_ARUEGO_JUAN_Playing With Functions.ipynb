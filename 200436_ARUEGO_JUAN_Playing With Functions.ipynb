{
 "cells": [
  {
   "cell_type": "markdown",
   "id": "b311cd50-76d0-4eff-aacf-c954d7783de3",
   "metadata": {},
   "source": [
    "# Assignment: Playing with Functions\n",
    "\n",
    "This problem set aims to serve as a stepping stone from basic Python to intermediate Python.  "
   ]
  },
  {
   "cell_type": "markdown",
   "id": "7843e78a-c77f-4662-900c-714330ada001",
   "metadata": {},
   "source": [
    "## Problem 1\n",
    "## Factorial (1 point)\n",
    "\n",
    "The **factorial** of a number is the product of that number and all the numbers below it. For example, 5 factorial (denoted 5! in math) is 5 * 4 * 3 * 2 * 1, which is 120.  \n",
    "\n",
    "**Write a function called `problem_1` that takes one positional argument `number`. The function should return  the factorial of `number` as an integer.**\n",
    "\n",
    "Example input/output:  \n",
    "`problem_1(5)` => `120`  \n",
    "`problem_1(10)` => `3628800`  "
   ]
  },
  {
   "cell_type": "code",
   "execution_count": 20,
   "id": "1a62b7a0-5d38-42dd-8cb8-ced94be5455d",
   "metadata": {},
   "outputs": [],
   "source": [
    "def problem_1(num):\n",
    "    factorial = 1\n",
    "\n",
    "    for i in range(1, num + 1):\n",
    "        factorial = factorial * i\n",
    "    print(factorial)\n",
    "problem_1(5)"
   ]
  },
  {
   "cell_type": "markdown",
   "id": "b95d08a5-e4f9-4bb4-8e18-e09e629df96b",
   "metadata": {},
   "source": [
    "## Problem 2\n",
    "## Guessing Game (2 points) \n",
    "\n",
    "Recall that we use `input()` to ask for user input.  \n",
    "\n",
    "**Write a function called `problem_2` that takes one positional argument `passphrase`. The function should ask the user to enter the passphrase with `input()`. If the user enters the correct passphrase, the function should return the integer `1`. If the user enters the wrong passphrase, the function should keep asking them for the passphrase. If the user gets the passphrase wrong 3 times, the function should return the integer `0`.**  \n",
    "\n",
    "Example input/output:  \n",
    "\n",
    "Function input:  \n",
    "`problem_2(\"chums\")`  \n",
    "Simulated user input:  \n",
    "`joben`  \n",
    "`chums`  \n",
    "Output:  \n",
    "`1`  \n",
    "\n",
    "Function input:  \n",
    "`problem_2(\"annika\")`  \n",
    "Simulated user input:  \n",
    "`joe`  \n",
    "`earl`  \n",
    "`niks`  \n",
    "Output:  \n",
    "`0`"
   ]
  },
  {
   "cell_type": "code",
   "execution_count": 41,
   "id": "948e9ab7-85e3-417e-914d-c1c27bdbfcdb",
   "metadata": {},
   "outputs": [
    {
     "name": "stdout",
     "output_type": "stream",
     "text": [
      "Juan\n",
      "1\n"
     ]
    }
   ],
   "source": [
    "def problem_2(user_input):\n",
    "    count = 0\n",
    "    while count < 3:\n",
    "        user_input = input()\n",
    "\n",
    "        if user_input == \"Juan\":\n",
    "            print(\"1\")\n",
    "            break\n",
    "        else:\n",
    "            count += 1\n",
    "    if count == 3:\n",
    "        print(\"0\")\n",
    "problem_2(\"Juan\")"
   ]
  },
  {
   "cell_type": "markdown",
   "id": "1b434f41-8e16-4a4d-a8d0-96be3ed2a309",
   "metadata": {},
   "source": [
    "## Problem 3\n",
    "## Temperature Converter (3 points)\n",
    "\n",
    "A common beginner's exercise is to write a function that can convert a temperature value from one format, such as Fahrenheit, to another, such as Celsius.  \n",
    "\n",
    "In this problem, extend this idea to convert temperatures freely to and from any of the following formats: Celsius, Fahrenheit, and Kelvin.  \n",
    "\n",
    "**Write a function called `problem_3` that takes three positional arguments: (float) `temp`, (string) `original_format`, (string) `new_format`. The function should convert `temp`, which is represented in `original_format`, to its equivalent value in the `new_format.`**  \n",
    "\n",
    "Example input/output:  \n",
    "`problem_3(0.0, \"Celsius\", \"Fahrenheit\")` => `32.0`  \n",
    "`problem_3(500.0, \"Kelvin\", \"Fahrenheit\")` => `440.33`  \n",
    "`problem_3(273.0, \"Kelvin\", \"Celsius\")` => `0.0`  \n",
    "\n",
    "For your convenience:  \n",
    "1. The accuracy of your float outputs will only be evaluated to within 2 decimal places. (In other words: don't worry too much about getting the calculation *exactly* right.)"
   ]
  },
  {
   "cell_type": "code",
   "execution_count": 14,
   "id": "652183db-4f42-40cf-b8cf-f0120914b86b",
   "metadata": {},
   "outputs": [
    {
     "name": "stdout",
     "output_type": "stream",
     "text": [
      "773.15\n"
     ]
    }
   ],
   "source": [
    "def problem_3(temp, original_format, new_format):\n",
    "    if original_format == \"Celsius\" and new_format == \"Kelvin\":\n",
    "        print(temp + 273.15)\n",
    "    elif original_format == \"Kelvin\" and new_format == \"Celsius\":\n",
    "        print(temp - 273.15)\n",
    "    elif original_format == \"Celsius\" and new_format == \"Fahrenheit\":\n",
    "        print((temp * 1.8) + 32)\n",
    "    elif original_format == \"Fahrenheit\" and new_format == \"Celsius\":\n",
    "        print((temp - 32) * 1.8)\n",
    "    elif original_format == \"Fahrenheit\" and new_format == \"Kelvin\":\n",
    "        print((temp - 31) * 1.8 - 273.15)\n",
    "    elif original_format == \"Kelvin\" and new_format == \"Fahrenheit\":\n",
    "        print((temp - 273.15) * 1.8 + 32)\n",
    "    else:\n",
    "        print(\"Error in conversion.\")\n",
    "problem_3(500.0,\"Celsius\", \"Kelvin\")\n",
    "    \n"
   ]
  },
  {
   "cell_type": "markdown",
   "id": "f12ed1ad-7738-4f4a-aa35-8f7ee87ea395",
   "metadata": {},
   "source": [
    "## Problem 4\n",
    "## Exact Change (4 points)\n",
    "\n",
    "Part of a cashier's job is to give exact change to customers. It can be difficult to mentally tally how many coins of each type (i.e., 1 peso, 25 centavos, 10 centavos, etc.) to give to a customer.  \n",
    "\n",
    "**Write a function called `problem_4` that takes 1 positional argument `amount` in centavos. The function should return a string that describes the appropriate amounts of each type of coin to give to the customer. The string should be formatted as follows:**  \n",
    "\n",
    "`\"1P:{num}/25C:{num}/10C:{num}/5C:{num}/1C:{num}\"`  \n",
    "\n",
    "**Use the fewest number of total coins possible.**  \n",
    "\n",
    "Example input/output:  \n",
    "`problem_4(105)` => `\"1P:1/25C:0/10C:0/5C:1/1C:0\"`  \n",
    "`problem_4(69)` => `\"1P:0/25C:2/10C:1/5C:1/1C:4\"`  "
   ]
  },
  {
   "cell_type": "code",
   "execution_count": 40,
   "id": "3899279e-d77b-49f6-a7ed-da43c631fff4",
   "metadata": {},
   "outputs": [
    {
     "name": "stdout",
     "output_type": "stream",
     "text": [
      "1P:0/25C:2/10C:1/5C:1/1C:4\n"
     ]
    }
   ],
   "source": [
    "def problem_4(amount):\n",
    "    \n",
    "    one_p = amount//100\n",
    "    twentyfive_c = (amount - (100 * one_p)) // 25\n",
    "    ten_c = (amount - (100 * one_p) - (25 * twentyfive_c))//10\n",
    "    five_c = (amount - (100 * one_p) - (25 * twentyfive_c) - (10 * ten_c))//5\n",
    "    one_c = (amount - (100 * one_p) - (25 * twentyfive_c) - (10 * ten_c) - (5 * five_c))\n",
    "\n",
    "    print(f\"1P:{one_p}/25C:{twentyfive_c}/10C:{ten_c}/5C:{five_c}/1C:{one_c}\")\n",
    "problem_4(69)\n",
    "\n",
    "\n",
    "\n",
    "    #one_p, twentyfive_c, ten_c, five_c, one_c):\n",
    "    \n",
    "    \n"
   ]
  },
  {
   "cell_type": "markdown",
   "id": "a45e4549-fb1a-4a4e-aceb-1eb46ceaa2c2",
   "metadata": {},
   "source": [
    "## Problem 5\n",
    "## Invert Capitalization (3 points)  \n",
    "\n",
    "**Write a function called `problem_5` that takes 1 positional argument (string) `message`. The function should return a string whose uppercase letters are now lowercase and whose lowercase letters are now uppercase. Spaces should be left alone.**  \n",
    "\n",
    "Example input/output:  \n",
    "`problem_5(\"Test Me\")` => `\"tEST mE\"`  \n",
    "`problem_5(\"asSiGnmENt\")` => `\"ASsIgNMenT\"`  \n",
    "\n",
    "For your convenience:  \n",
    "1. The message will only ever consist of spaces, lowercase letters, and uppercase letters.  \n",
    "\n",
    "Hint: Research on `ord()` and `chr()`.  "
   ]
  },
  {
   "cell_type": "code",
   "execution_count": 72,
   "id": "df8d9597-cca1-44ef-b1c8-a0050d512d45",
   "metadata": {},
   "outputs": [
    {
     "data": {
      "text/plain": [
       "'HeLLO WoRLd'"
      ]
     },
     "execution_count": 72,
     "metadata": {},
     "output_type": "execute_result"
    }
   ],
   "source": [
    "#lower case = 97 - 122\n",
    "#capital = 65 - 90\n",
    "\n",
    "def problem_5(word):\n",
    "    invert = \"\"\n",
    "    \n",
    "    for i in word:\n",
    "        if 97 <= ord(i) <= 122:\n",
    "            invert = invert + chr(ord(i) - 32)\n",
    "        elif 65 <= ord(i) <= 90:\n",
    "            invert = invert + chr(ord(i) + 32)\n",
    "        else:\n",
    "            invert += \" \"\n",
    "    return invert\n",
    "problem_5('hEllo wOrlD')"
   ]
  },
  {
   "cell_type": "code",
   "execution_count": 76,
   "id": "b8c28d85",
   "metadata": {},
   "outputs": [
    {
     "name": "stdout",
     "output_type": "stream",
     "text": [
      "HeLLo WoRLd"
     ]
    }
   ],
   "source": [
    "#space = 32\n",
    "\n",
    "def problem_5(word):\n",
    "    for i in word:\n",
    "        if ord(i) == 32:\n",
    "            invert = ord(i)\n",
    "        elif 65 <= ord(i) <= 90:\n",
    "            invert = ord(i)+32\n",
    "        elif 97 <= ord(i) <= 122:\n",
    "            invert = ord(i)-32\n",
    "        print(chr(invert), end = \"\")\n",
    "problem_5(\"hEllO wOrlD\")"
   ]
  },
  {
   "cell_type": "code",
   "execution_count": null,
   "id": "91baae53",
   "metadata": {},
   "outputs": [],
   "source": []
  }
 ],
 "metadata": {
  "kernelspec": {
   "display_name": "Python 3",
   "language": "python",
   "name": "python3"
  },
  "language_info": {
   "codemirror_mode": {
    "name": "ipython",
    "version": 3
   },
   "file_extension": ".py",
   "mimetype": "text/x-python",
   "name": "python",
   "nbconvert_exporter": "python",
   "pygments_lexer": "ipython3",
   "version": "3.8.8"
  }
 },
 "nbformat": 4,
 "nbformat_minor": 5
}
